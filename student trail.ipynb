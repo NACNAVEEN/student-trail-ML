{
 "cells": [
  {
   "cell_type": "code",
   "execution_count": 1,
   "id": "ad753476-2326-4d85-a35c-e79e8223160b",
   "metadata": {},
   "outputs": [],
   "source": [
    "import pandas as pd"
   ]
  },
  {
   "cell_type": "code",
   "execution_count": 2,
   "id": "df8c130b-6f91-4795-97b6-86a465ee5fda",
   "metadata": {},
   "outputs": [
    {
     "data": {
      "text/plain": [
       "0     Naveen\n",
       "1     Ruthra\n",
       "2       Gopi\n",
       "3    shriman\n",
       "4       Hari\n",
       "dtype: object"
      ]
     },
     "execution_count": 2,
     "metadata": {},
     "output_type": "execute_result"
    }
   ],
   "source": [
    "student = pd.Series([\"Naveen\",\"Ruthra\",\"Gopi\",\"shriman\",\"Hari\"])\n",
    "student"
   ]
  },
  {
   "cell_type": "code",
   "execution_count": 3,
   "id": "1c62c85f-f31a-4c6f-a13f-9f39a6cddcad",
   "metadata": {},
   "outputs": [
    {
     "data": {
      "text/plain": [
       "0    pass\n",
       "1    pass\n",
       "2    Fail\n",
       "3    Fail\n",
       "4    Pass\n",
       "dtype: object"
      ]
     },
     "execution_count": 3,
     "metadata": {},
     "output_type": "execute_result"
    }
   ],
   "source": [
    "result =pd.Series([\"pass\",\"pass\",\"Fail\",\"Fail\",\"Pass\"])\n",
    "result"
   ]
  },
  {
   "cell_type": "code",
   "execution_count": 4,
   "id": "339e9448-8de6-45a5-b1bc-05a0a976092d",
   "metadata": {},
   "outputs": [
    {
     "data": {
      "text/html": [
       "<div>\n",
       "<style scoped>\n",
       "    .dataframe tbody tr th:only-of-type {\n",
       "        vertical-align: middle;\n",
       "    }\n",
       "\n",
       "    .dataframe tbody tr th {\n",
       "        vertical-align: top;\n",
       "    }\n",
       "\n",
       "    .dataframe thead th {\n",
       "        text-align: right;\n",
       "    }\n",
       "</style>\n",
       "<table border=\"1\" class=\"dataframe\">\n",
       "  <thead>\n",
       "    <tr style=\"text-align: right;\">\n",
       "      <th></th>\n",
       "      <th>name</th>\n",
       "      <th>stdresult</th>\n",
       "    </tr>\n",
       "  </thead>\n",
       "  <tbody>\n",
       "    <tr>\n",
       "      <th>0</th>\n",
       "      <td>Naveen</td>\n",
       "      <td>pass</td>\n",
       "    </tr>\n",
       "    <tr>\n",
       "      <th>1</th>\n",
       "      <td>Ruthra</td>\n",
       "      <td>pass</td>\n",
       "    </tr>\n",
       "    <tr>\n",
       "      <th>2</th>\n",
       "      <td>Gopi</td>\n",
       "      <td>Fail</td>\n",
       "    </tr>\n",
       "    <tr>\n",
       "      <th>3</th>\n",
       "      <td>shriman</td>\n",
       "      <td>Fail</td>\n",
       "    </tr>\n",
       "    <tr>\n",
       "      <th>4</th>\n",
       "      <td>Hari</td>\n",
       "      <td>Pass</td>\n",
       "    </tr>\n",
       "  </tbody>\n",
       "</table>\n",
       "</div>"
      ],
      "text/plain": [
       "      name stdresult\n",
       "0   Naveen      pass\n",
       "1   Ruthra      pass\n",
       "2     Gopi      Fail\n",
       "3  shriman      Fail\n",
       "4     Hari      Pass"
      ]
     },
     "execution_count": 4,
     "metadata": {},
     "output_type": "execute_result"
    }
   ],
   "source": [
    "student_data = pd.DataFrame({\"name\":student,\"stdresult\":result})\n",
    "student_data"
   ]
  },
  {
   "cell_type": "code",
   "execution_count": 5,
   "id": "2738508f-a676-4ff4-817f-ab1841d69313",
   "metadata": {},
   "outputs": [
    {
     "data": {
      "text/html": [
       "<div>\n",
       "<style scoped>\n",
       "    .dataframe tbody tr th:only-of-type {\n",
       "        vertical-align: middle;\n",
       "    }\n",
       "\n",
       "    .dataframe tbody tr th {\n",
       "        vertical-align: top;\n",
       "    }\n",
       "\n",
       "    .dataframe thead th {\n",
       "        text-align: right;\n",
       "    }\n",
       "</style>\n",
       "<table border=\"1\" class=\"dataframe\">\n",
       "  <thead>\n",
       "    <tr style=\"text-align: right;\">\n",
       "      <th></th>\n",
       "      <th>student name</th>\n",
       "      <th>year</th>\n",
       "      <th>result</th>\n",
       "      <th>phn number</th>\n",
       "    </tr>\n",
       "  </thead>\n",
       "  <tbody>\n",
       "    <tr>\n",
       "      <th>0</th>\n",
       "      <td>Naveen</td>\n",
       "      <td>2020</td>\n",
       "      <td>pass</td>\n",
       "      <td>989849794</td>\n",
       "    </tr>\n",
       "    <tr>\n",
       "      <th>1</th>\n",
       "      <td>Ruthra</td>\n",
       "      <td>2021</td>\n",
       "      <td>fail</td>\n",
       "      <td>92893992</td>\n",
       "    </tr>\n",
       "    <tr>\n",
       "      <th>2</th>\n",
       "      <td>hari</td>\n",
       "      <td>2022</td>\n",
       "      <td>pass</td>\n",
       "      <td>u38788787</td>\n",
       "    </tr>\n",
       "    <tr>\n",
       "      <th>3</th>\n",
       "      <td>shriman</td>\n",
       "      <td>2019</td>\n",
       "      <td>fail</td>\n",
       "      <td>u872872232</td>\n",
       "    </tr>\n",
       "    <tr>\n",
       "      <th>4</th>\n",
       "      <td>gopi</td>\n",
       "      <td>2011</td>\n",
       "      <td>average</td>\n",
       "      <td>725472832</td>\n",
       "    </tr>\n",
       "    <tr>\n",
       "      <th>5</th>\n",
       "      <td>guna</td>\n",
       "      <td>2013</td>\n",
       "      <td>pass</td>\n",
       "      <td>2323971713</td>\n",
       "    </tr>\n",
       "    <tr>\n",
       "      <th>6</th>\n",
       "      <td>sakthi</td>\n",
       "      <td>2014</td>\n",
       "      <td>fail</td>\n",
       "      <td>523627372</td>\n",
       "    </tr>\n",
       "    <tr>\n",
       "      <th>7</th>\n",
       "      <td>elavarasan</td>\n",
       "      <td>2009</td>\n",
       "      <td>fail</td>\n",
       "      <td>28y828323</td>\n",
       "    </tr>\n",
       "    <tr>\n",
       "      <th>8</th>\n",
       "      <td>udhya</td>\n",
       "      <td>2017</td>\n",
       "      <td>pass</td>\n",
       "      <td>98383929377</td>\n",
       "    </tr>\n",
       "  </tbody>\n",
       "</table>\n",
       "</div>"
      ],
      "text/plain": [
       "  student name  year   result   phn number\n",
       "0       Naveen  2020     pass    989849794\n",
       "1       Ruthra  2021     fail     92893992\n",
       "2         hari  2022     pass    u38788787\n",
       "3      shriman  2019     fail   u872872232\n",
       "4        gopi   2011  average    725472832\n",
       "5         guna  2013     pass   2323971713\n",
       "6       sakthi  2014     fail    523627372\n",
       "7   elavarasan  2009     fail    28y828323\n",
       "8        udhya  2017     pass  98383929377"
      ]
     },
     "execution_count": 5,
     "metadata": {},
     "output_type": "execute_result"
    }
   ],
   "source": [
    "student_data = pd.read_csv(\"student-list.csv\")\n",
    "student_data"
   ]
  },
  {
   "cell_type": "code",
   "execution_count": 8,
   "id": "25169c2c-1c59-42d8-a791-7de390ee4b9f",
   "metadata": {},
   "outputs": [],
   "source": [
    "student_data .to_csv(\"new student-list.csv\",index=False)"
   ]
  },
  {
   "cell_type": "code",
   "execution_count": 9,
   "id": "739b7ccc-dc21-494d-8bc9-94ebd927ecec",
   "metadata": {},
   "outputs": [
    {
     "data": {
      "text/html": [
       "<div>\n",
       "<style scoped>\n",
       "    .dataframe tbody tr th:only-of-type {\n",
       "        vertical-align: middle;\n",
       "    }\n",
       "\n",
       "    .dataframe tbody tr th {\n",
       "        vertical-align: top;\n",
       "    }\n",
       "\n",
       "    .dataframe thead th {\n",
       "        text-align: right;\n",
       "    }\n",
       "</style>\n",
       "<table border=\"1\" class=\"dataframe\">\n",
       "  <thead>\n",
       "    <tr style=\"text-align: right;\">\n",
       "      <th></th>\n",
       "      <th>student name</th>\n",
       "      <th>year</th>\n",
       "      <th>result</th>\n",
       "      <th>phn number</th>\n",
       "    </tr>\n",
       "  </thead>\n",
       "  <tbody>\n",
       "    <tr>\n",
       "      <th>0</th>\n",
       "      <td>Naveen</td>\n",
       "      <td>2020</td>\n",
       "      <td>pass</td>\n",
       "      <td>989849794</td>\n",
       "    </tr>\n",
       "    <tr>\n",
       "      <th>1</th>\n",
       "      <td>Ruthra</td>\n",
       "      <td>2021</td>\n",
       "      <td>fail</td>\n",
       "      <td>92893992</td>\n",
       "    </tr>\n",
       "    <tr>\n",
       "      <th>2</th>\n",
       "      <td>hari</td>\n",
       "      <td>2022</td>\n",
       "      <td>pass</td>\n",
       "      <td>u38788787</td>\n",
       "    </tr>\n",
       "    <tr>\n",
       "      <th>3</th>\n",
       "      <td>shriman</td>\n",
       "      <td>2019</td>\n",
       "      <td>fail</td>\n",
       "      <td>u872872232</td>\n",
       "    </tr>\n",
       "    <tr>\n",
       "      <th>4</th>\n",
       "      <td>gopi</td>\n",
       "      <td>2011</td>\n",
       "      <td>average</td>\n",
       "      <td>725472832</td>\n",
       "    </tr>\n",
       "    <tr>\n",
       "      <th>5</th>\n",
       "      <td>guna</td>\n",
       "      <td>2013</td>\n",
       "      <td>pass</td>\n",
       "      <td>2323971713</td>\n",
       "    </tr>\n",
       "    <tr>\n",
       "      <th>6</th>\n",
       "      <td>sakthi</td>\n",
       "      <td>2014</td>\n",
       "      <td>fail</td>\n",
       "      <td>523627372</td>\n",
       "    </tr>\n",
       "    <tr>\n",
       "      <th>7</th>\n",
       "      <td>elavarasan</td>\n",
       "      <td>2009</td>\n",
       "      <td>fail</td>\n",
       "      <td>28y828323</td>\n",
       "    </tr>\n",
       "    <tr>\n",
       "      <th>8</th>\n",
       "      <td>udhya</td>\n",
       "      <td>2017</td>\n",
       "      <td>pass</td>\n",
       "      <td>98383929377</td>\n",
       "    </tr>\n",
       "  </tbody>\n",
       "</table>\n",
       "</div>"
      ],
      "text/plain": [
       "  student name  year   result   phn number\n",
       "0       Naveen  2020     pass    989849794\n",
       "1       Ruthra  2021     fail     92893992\n",
       "2         hari  2022     pass    u38788787\n",
       "3      shriman  2019     fail   u872872232\n",
       "4        gopi   2011  average    725472832\n",
       "5         guna  2013     pass   2323971713\n",
       "6       sakthi  2014     fail    523627372\n",
       "7   elavarasan  2009     fail    28y828323\n",
       "8        udhya  2017     pass  98383929377"
      ]
     },
     "execution_count": 9,
     "metadata": {},
     "output_type": "execute_result"
    }
   ],
   "source": [
    "new_student_data = pd.read_csv(\"new student-list.csv\")\n",
    "new_student_data"
   ]
  },
  {
   "cell_type": "code",
   "execution_count": null,
   "id": "fa047a69-a0dd-496d-b7d3-abeea9737321",
   "metadata": {},
   "outputs": [],
   "source": []
  }
 ],
 "metadata": {
  "kernelspec": {
   "display_name": "Python 3 (ipykernel)",
   "language": "python",
   "name": "python3"
  },
  "language_info": {
   "codemirror_mode": {
    "name": "ipython",
    "version": 3
   },
   "file_extension": ".py",
   "mimetype": "text/x-python",
   "name": "python",
   "nbconvert_exporter": "python",
   "pygments_lexer": "ipython3",
   "version": "3.12.2"
  }
 },
 "nbformat": 4,
 "nbformat_minor": 5
}
